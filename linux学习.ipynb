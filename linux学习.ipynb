{
 "cells": [
  {
   "cell_type": "markdown",
   "id": "073a88cb",
   "metadata": {
    "vscode": {
     "languageId": "plaintext"
    }
   },
   "source": [
    "## Linux的目录结构"
   ]
  },
  {
   "cell_type": "markdown",
   "id": "e4f35288",
   "metadata": {},
   "source": [
    "\n",
    "/usr/hello.txt"
   ]
  },
  {
   "cell_type": "markdown",
   "id": "856c0a75",
   "metadata": {
    "vscode": {
     "languageId": "plaintext"
    }
   },
   "source": [
    "## Linux命令入门"
   ]
  },
  {
   "cell_type": "markdown",
   "id": "80803a18",
   "metadata": {},
   "source": [
    "### Linux命令基础"
   ]
  },
  {
   "cell_type": "markdown",
   "id": "cd1fece6",
   "metadata": {},
   "source": [
    "1.命令行\n",
    "\n",
    "命令提示符页面\n",
    "\n",
    "2.命令\n",
    "\n",
    "Linux程序\n",
    "\n",
    "3.基础格式\n",
    "\n",
    "**command [-options] [parameter]**\n",
    "\n",
    "命令本身   可选（选项）  可选（参数）\n",
    "\n",
    "ls -l/home/itheima\n",
    "\n",
    "cp -r test1 test2\n",
    "\n",
    "   "
   ]
  },
  {
   "cell_type": "markdown",
   "id": "c470dcff",
   "metadata": {},
   "source": [
    "### ls命令入门"
   ]
  },
  {
   "cell_type": "markdown",
   "id": "4ff48ae4",
   "metadata": {},
   "source": [
    "1.ls命令\n",
    "\n",
    "**ls [-a -l -h] [Linux路径]**\n",
    "\n",
    "只有ls：平铺列出当前工作目录内容（默认为/home/用户名）\n",
    "\n",
    "2.ls命令的选项\n",
    "\n",
    "-a:列出全部文件（包括隐藏文件.）\n",
    "\n",
    "-l:竖向排列展示，并展示更多时间\n",
    "\n",
    "-la:同时应用-l -a\n",
    "\n",
    "-hl:以易于阅读的形式展示文件大小(-h要和-l一起使用)\n",
    "\n"
   ]
  },
  {
   "cell_type": "markdown",
   "id": "bb443745",
   "metadata": {},
   "source": [
    "### 目录切换命令（cd/pwd）\n",
    "\n",
    "\n"
   ]
  },
  {
   "cell_type": "markdown",
   "id": "4c5fd6c3",
   "metadata": {},
   "source": [
    "**cd [Linux路径]**\n",
    "\n",
    "更改工作目录（不写参数回到home）\n",
    "\n",
    "**pwd**\n",
    "\n",
    "无选项无参数 查看当前工作目录"
   ]
  },
  {
   "cell_type": "markdown",
   "id": "81eb465f",
   "metadata": {},
   "source": [
    "### 相对路径、绝对路径和特殊路径符"
   ]
  },
  {
   "cell_type": "markdown",
   "id": "4ad496ad",
   "metadata": {},
   "source": [
    "特殊路径符：\n",
    "\n",
    ". 表示当前目录\n",
    "\n",
    ".. 表示上一级目录\n",
    "\n",
    "../.. 表示上两级目录\n",
    "\n",
    "~ 表示home目录"
   ]
  },
  {
   "cell_type": "markdown",
   "id": "69e9d8d1",
   "metadata": {},
   "source": [
    "### 创建目录命令（mkdir）"
   ]
  },
  {
   "cell_type": "markdown",
   "id": "5f86d34b",
   "metadata": {},
   "source": [
    "**mkdir [-p] Linux路径**\n",
    "\n",
    "-p:自动创建不存在的父目录    mkdir -p itcast/good/666(只能在home目录内创建)\n",
    "\n"
   ]
  },
  {
   "cell_type": "markdown",
   "id": "02137d31",
   "metadata": {},
   "source": [
    "### 文件操作命令（touch,cat,more）"
   ]
  },
  {
   "cell_type": "markdown",
   "id": "3f4437f2",
   "metadata": {},
   "source": [
    "1.touch 创建文件\n",
    "\n",
    "**touch Linux路径**\n",
    "\n",
    "2.cat 查看文件内容\n",
    "\n",
    "**cat Linux路径**\n",
    "\n",
    "3.more 查看文件内容\n",
    "\n",
    "**more Linux路径** 支持翻页\n",
    "\n",
    "使用空格翻页，使用q退出查看\n",
    "\n",
    "\n"
   ]
  },
  {
   "cell_type": "markdown",
   "id": "262fee7b",
   "metadata": {},
   "source": [
    "### 文件操作命令（cp,mv,rm）"
   ]
  },
  {
   "cell_type": "markdown",
   "id": "7981eed0",
   "metadata": {},
   "source": [
    "1.cp 复制文件/文件夹\n",
    "\n",
    "**cp [-r] 参数1 参数2**\n",
    "\n",
    "-r:用于复制文件夹\n",
    "\n",
    "参数1：被复制的文件地址\n",
    "\n",
    "参数2：复制到的文件地址\n",
    "\n",
    "2.mv 移动文件/文件夹\n",
    "\n",
    "**mv 参数1 参数2**\n",
    "\n",
    "参数1：被移动的文件地址\n",
    "\n",
    "参数2：移动到的文件地址，若地址不存在可改名\n",
    "\n",
    "3.rm 删除文件/文件夹\n",
    "\n",
    "**rm [-r -f] 参数1.....参数N**\n",
    "\n",
    "-r: 用于删除文件夹\n",
    "\n",
    "-f: 强制删除(只有root用户需要) su -root 密码123456进入root exit退出\n",
    "\n",
    "**通配符\\***\n",
    "\n",
    "test*:任何以test开头的内容\n",
    "\n",
    "*test\n",
    "\n",
    "\\*test\\*\n"
   ]
  },
  {
   "cell_type": "markdown",
   "id": "57afb5a1",
   "metadata": {},
   "source": [
    "### 查找命令（which,find）"
   ]
  },
  {
   "cell_type": "markdown",
   "id": "606daefb",
   "metadata": {},
   "source": [
    "1.which 查找命令的程序文件存在哪里\n",
    "\n",
    "**which 要查找的命令**\n",
    "\n",
    "which cd\n",
    "\n",
    "2.1 find 按文件名查找\n",
    "\n",
    "**find 起始路径 -name \"被查找的文件名\"**\n",
    "\n",
    "也可以使用通配符\n",
    "\n",
    "2.2 find 按文件大小查找\n",
    "\n",
    "**find 起始路径 -size +/-n [kMG]**\n",
    "\n",
    "find / -size -10k 从根目录开始查找小于10kb的文件"
   ]
  },
  {
   "cell_type": "markdown",
   "id": "a26d7e36",
   "metadata": {},
   "source": [
    "### grep,wc和管道符"
   ]
  },
  {
   "cell_type": "markdown",
   "id": "0140dfa6",
   "metadata": {},
   "source": [
    "1.grep 过滤文件\n",
    "\n",
    "**grep [-n] 关键字 文件路径**\n",
    "\n",
    "-n: 在结果中显示行号\n",
    "\n",
    "关键字：要过滤的东西\n",
    "\n",
    "文件路径：可作为内容输入端口\n",
    "\n",
    "2.wc 统计文件\n",
    "\n",
    "**wc [-c -m -l -w] 文件路径**\n",
    "\n",
    "字节，字符，行数，单词数（默认为 行数 单词数 字节数）\n",
    "\n",
    "文件路径：可作为内容输入端口\n",
    "\n",
    "3.管道符\n",
    "\n",
    "将管道符左边的结果作为右边的输入\n",
    "\n",
    "cat test.txt|grep iti\n",
    "\n",
    "ls|wc -l\n",
    "\n",
    "管道符嵌套：cat test.txt|grep iti|grep ll\n"
   ]
  },
  {
   "cell_type": "markdown",
   "id": "04b430fc",
   "metadata": {},
   "source": [
    "### echo,tail,反引号的使用和重定向符"
   ]
  },
  {
   "cell_type": "markdown",
   "id": "9890d9c3",
   "metadata": {},
   "source": [
    "1.echo 输出内容\n",
    "\n",
    "**echo 输出的内容（双引号**\n",
    "\n",
    "2.反引号`的使用\n",
    "\n",
    "echo \\`pwd\\`\n",
    "\n",
    "3.重定向符\n",
    "\n",
    "\\>:将左侧结果覆盖写入右侧的文件\n",
    "\n",
    "echo \"hello\" > test.txt\n",
    "\n",
    "\\>\\>:将左侧结果追加写入右侧的文件\n",
    "\n",
    "ls >> test.txt\n",
    "\n",
    "4.tail 查看文件尾部内容 跟踪文件最新更改\n",
    "\n",
    "**tail [-f -num] Linux路径**\n",
    "\n",
    "持续跟踪（一直检测到更改，ctrl c结束命令） 查看尾部多少行（默认10行）\n",
    "\n"
   ]
  },
  {
   "cell_type": "markdown",
   "id": "c691ded5",
   "metadata": {},
   "source": [
    "### vi编辑器——文本编辑器"
   ]
  },
  {
   "cell_type": "markdown",
   "id": "96bb83de",
   "metadata": {},
   "source": [
    "1.三种模式\n",
    "\n",
    "命令模式：快捷键（中枢）（默认，esc回到，有若干快捷键\n",
    "\n",
    "输入模式：输入（iao进入\n",
    "\n",
    "底线命令模式：文件的保存、退出（:进入底线，wq保存并退出）\n",
    "\n",
    "**vi/vim 文件路径**\n",
    "\n",
    "(文件不存在相当于新建)"
   ]
  },
  {
   "cell_type": "markdown",
   "id": "40ba27db",
   "metadata": {},
   "source": [
    "\n",
    "## Linux用户和权限\n"
   ]
  },
  {
   "cell_type": "markdown",
   "id": "7e9a2870",
   "metadata": {},
   "source": [
    "### Linux的root用户"
   ]
  },
  {
   "cell_type": "markdown",
   "id": "6ee2a212",
   "metadata": {},
   "source": [
    "1.su命令\n",
    "\n",
    "**su [-] [用户名]**\n",
    "\n",
    "-：表示切换后加载环境变量\n",
    "用户名：若省略则代表root\n",
    "\n",
    "可用exit命令/ctrl+d回到上一个用户\n",
    "\n",
    "2.sudo命令\n",
    "\n",
    "**sudo 其他命令**\n",
    "\n",
    "为普通命令赋予root权限\n",
    "\n",
    "需要为普通用户配置sudo认证（visudo）\n"
   ]
  },
  {
   "cell_type": "markdown",
   "id": "f21d15cd",
   "metadata": {},
   "source": [
    "### 用户（组）管理\n",
    "\n"
   ]
  },
  {
   "cell_type": "markdown",
   "id": "db709682",
   "metadata": {},
   "source": [
    "1.用户组管理（root用户执行）\n",
    "\n",
    "**groupadd 用户组名**\n",
    "\n",
    "**groupdel 用户组名**\n",
    "\n",
    "2.用户管理\n",
    "\n",
    "**useradd [-g -d] 用户名**\n",
    "\n",
    "-g:指定用户的组，若不指定，则加入同名组\n",
    "\n",
    "-d:指定用户home路径\n",
    "\n",
    "**userdel [-r] 用户名**\n",
    "\n",
    "-r:删除用户的Home目录\n",
    "\n",
    "**id [用户名]**\n",
    "查看用户\n",
    "\n",
    "**usermod -aG 用户组 用户名**\n",
    "\n",
    "将指定用户加入到指定组\n",
    "\n",
    "**getent passwd/group**\n",
    "\n",
    "查看当前系统中有哪些用户/组\n",
    "\n"
   ]
  },
  {
   "cell_type": "markdown",
   "id": "ca83562f",
   "metadata": {},
   "source": [
    "### 查看权限控制"
   ]
  },
  {
   "cell_type": "markdown",
   "id": "f1eaf914",
   "metadata": {},
   "source": [
    "1.认知权限信息\n",
    "\n",
    "-/d/l     r/-      w/-      x/-     r/-    w/-     x/-     r/-     w/-      x/-\n",
    "\n",
    "文件/文件夹/软链接 用户权限 用户组权限 其他用户权限\n",
    "\n",
    "2.rwx\n",
    "\n",
    "读、写、执行"
   ]
  },
  {
   "cell_type": "markdown",
   "id": "0656419b",
   "metadata": {},
   "source": [
    "### chmod命令 修改权限控制"
   ]
  },
  {
   "cell_type": "markdown",
   "id": "e3cd488e",
   "metadata": {},
   "source": [
    "1.chmod命令\n",
    "\n",
    "**chmod [-R] 权限 文件或文件夹**\n",
    "\n",
    "-R：对文件夹内全部内容应用同样操作\n",
    "\n",
    "示例：\n",
    "\n",
    "chmod u=rwx,g=rx,o=x hello.txt\n",
    "\n",
    "chomd -R u=rwx,g=rx,o=x test\n",
    "\n"
   ]
  },
  {
   "cell_type": "markdown",
   "id": "9625eab1",
   "metadata": {},
   "source": [
    "### chown命令 修改权限控制"
   ]
  },
  {
   "cell_type": "markdown",
   "id": "71b5c5ab",
   "metadata": {},
   "source": [
    "修改文件、文件夹的所属用户和用户组（只适用于root用户\n",
    "\n",
    "**chown [-R] [用户][:][用户组] 文件或文件夹**"
   ]
  },
  {
   "cell_type": "markdown",
   "id": "86da4dea",
   "metadata": {},
   "source": [
    "## Linux使用操作"
   ]
  },
  {
   "cell_type": "markdown",
   "id": "17145476",
   "metadata": {},
   "source": [
    "### Linux各类小技巧"
   ]
  },
  {
   "cell_type": "markdown",
   "id": "b0a98974",
   "metadata": {},
   "source": [
    "1.强制停（重写） ctrl+c\n",
    "\n",
    "2.退出账户登录/退出特定程序页面 ctrl+d\n",
    "\n",
    "3.查看历史命令 history\n",
    "\n",
    "4.执行上一次匹配前缀的命令 !+命令前缀\n",
    "\n",
    "5.搜索上一个匹配关键字的命令  ctrl+r\n",
    "\n",
    "6.光标到开头:ctrl+a\n",
    "\n",
    "  光标到结尾:ctrl+e\n",
    "\n",
    "  ctrl+左:向左一个单词\n",
    "\n",
    "  ctrl+右：向右一个单词\n",
    "\n",
    "7.清屏 ctrl+l"
   ]
  },
  {
   "cell_type": "markdown",
   "id": "5b7fda6a",
   "metadata": {},
   "source": [
    "### 软件安装"
   ]
  },
  {
   "cell_type": "markdown",
   "id": "6a683497",
   "metadata": {},
   "source": [
    "**yum [-y] [instll/remove/search] 软件名称**\n",
    "\n",
    "需要联网和root权限 -y:自动确认\n",
    "\n"
   ]
  },
  {
   "cell_type": "markdown",
   "id": "762511a3",
   "metadata": {},
   "source": [
    "### systemctl命令"
   ]
  },
  {
   "cell_type": "markdown",
   "id": "43dee54f",
   "metadata": {},
   "source": [
    "控制软件的启动与关闭\n",
    "**systemctl start/stop/status/enable（开机自启）/disable 服务名**\n"
   ]
  },
  {
   "cell_type": "markdown",
   "id": "1688ff4a",
   "metadata": {},
   "source": [
    "### 软链接（ln命令）"
   ]
  },
  {
   "cell_type": "markdown",
   "id": "d488e013",
   "metadata": {},
   "source": [
    "类似于快捷方式\n",
    "\n",
    "**ln -s 参数1 参数2**  "
   ]
  },
  {
   "cell_type": "markdown",
   "id": "6779af71",
   "metadata": {},
   "source": [
    "### 日期和时区"
   ]
  },
  {
   "cell_type": "markdown",
   "id": "c83dc826",
   "metadata": {},
   "source": [
    "1.date命令查看系统时间\n",
    "\n",
    "**date [-d] [+格式化字符串]\n",
    "\n",
    "-d 用于日期计算\n",
    "\n",
    "2.修改linux系统时区\n",
    "\n",
    "rm -f /etc/localtime\n",
    "\n",
    "sudo ln -s /user/share/zoneinfo/Asia/Shanghai /etc/localtime\n",
    "\n",
    "3.ntp程序自动校准系统时间\n",
    "\n",
    "yum -y install ntp\n",
    "\n",
    "systemctl enable ntpd\n",
    "\n",
    "\n"
   ]
  },
  {
   "cell_type": "markdown",
   "id": "3fb75592",
   "metadata": {},
   "source": [
    "### ip地址和主机名"
   ]
  },
  {
   "cell_type": "markdown",
   "id": "5f1c8527",
   "metadata": {},
   "source": [
    "1.ip地址\n",
    "\n",
    "ipv4 a.b.c.d\n",
    "\n",
    "**ifconfig**\n",
    "查看本机ip地址\n",
    "\n",
    "127.0.0.1\n",
    "用于指代本机\n",
    "\n",
    "0.0.0.0\n",
    "\n",
    "用于指代本机\n",
    "\n",
    "在端口中绑定关系\n",
    "\n",
    "用作放行规则 允许任意ip访问\n",
    "\n",
    "2.主机名\n",
    "\n",
    "**hostname**查看主机名\n",
    "\n",
    "**hosttnamectl set-hostname 主机名**修改主机名\n",
    "\n",
    "3.域名解析（主机名映射）\n",
    "\n",
    "字符化地址解析服务器\n",
    "\n",
    "流程：\n",
    "\n",
    "先看本机记录（字符串和ip是否有映射）\n",
    "\n",
    "若无，则联网查看DNS服务器\n",
    "\n",
    "\n",
    "\n",
    " "
   ]
  },
  {
   "cell_type": "markdown",
   "id": "fccdcf36",
   "metadata": {},
   "source": [
    "### 虚拟机配置固定ip"
   ]
  },
  {
   "cell_type": "markdown",
   "id": "303c93d4",
   "metadata": {},
   "source": [
    "### 下载和网络请求"
   ]
  },
  {
   "cell_type": "markdown",
   "id": "0bb12bc3",
   "metadata": {},
   "source": [
    "1.ping命令检查指定网络服务器是否可连通\n",
    "\n",
    "**ping [-c num] ip或主机名**\n",
    "\n",
    "2.wget在命令行内下载网络文件\n",
    "\n",
    "**wget [-b] url**\n",
    "\n",
    "-b:后台下载\n",
    "\n",
    "url:下载链接\n",
    "\n",
    "3.curl命令发送http网络请求 用于下载文件、获取信息（浏览器打开网站\n",
    "\n",
    "**curl [-O] url\n",
    "\n",
    "-O:用于下载文件\n"
   ]
  },
  {
   "cell_type": "markdown",
   "id": "e17691ac",
   "metadata": {},
   "source": [
    "### 端口"
   ]
  },
  {
   "cell_type": "markdown",
   "id": "6b494761",
   "metadata": {},
   "source": [
    "1.物理端口/虚拟端口\n",
    "\n",
    "操作系统和外部进行交互使用\n",
    "\n",
    "公认端口\n",
    "\n",
    "注册端口\n",
    "\n",
    "动态端口\n",
    "\n",
    "2.nmap命令查看端口占用情况\n",
    "\n",
    "**nmap ip地址**\n",
    "\n",
    "3.netstat命令查看指定端口的占用情况\n",
    "\n",
    "**netstat -anp|grep 端口号**"
   ]
  },
  {
   "cell_type": "markdown",
   "id": "0fdb79a6",
   "metadata": {},
   "source": [
    "### 进程管理"
   ]
  },
  {
   "cell_type": "markdown",
   "id": "5abbe56d",
   "metadata": {},
   "source": [
    "1.进程的概念\n",
    "\n",
    "程序运行时被操作系统注册为一个进程，且有一个Id\n",
    "\n",
    "2.ps命令查看进程\n",
    "\n",
    "**ps [-e -f]**\n",
    "\n",
    "ps -ef列出全部进程的全部信息\n",
    "\n",
    "ps -ef | grep 关键字 进行过滤\n",
    "\n",
    "3.关闭进程\n",
    "\n",
    "**kill [-9] 进程id**\n",
    "-9:强制关闭"
   ]
  },
  {
   "cell_type": "markdown",
   "id": "fc2bd134",
   "metadata": {},
   "source": [
    "### 主机状态"
   ]
  },
  {
   "cell_type": "markdown",
   "id": "96b09e80",
   "metadata": {},
   "source": [
    "1.top命令查看任务管理器\n",
    "\n",
    "2.df命令查看硬盘使用情况\n",
    "\n",
    "**df -h**\n",
    "\n",
    "3.iostat查看cpu和磁盘利用率\n",
    "\n",
    "**iostat [-x] [num1 num2]**\n",
    "\n",
    "查看读入速度、写入速度、磁盘利用率\n",
    "\n",
    "4.网络状态监控\n",
    "\n",
    "sar -n DEV num1 num2"
   ]
  },
  {
   "cell_type": "markdown",
   "id": "1802d314",
   "metadata": {},
   "source": [
    "### 环境变量"
   ]
  },
  {
   "cell_type": "markdown",
   "id": "a4c2f021",
   "metadata": {},
   "source": [
    "1.环境变量的作用\n",
    "\n",
    "env命令查看当前环境变量\n",
    "\n",
    "2.$符号\n",
    "\n",
    "取环境变量\n",
    "\n",
    "3.自行设置环境变量（暂时\n",
    "\n",
    "**export 变量名=变量值**\n",
    "\n",
    "4.环境变量path\n",
    "\n",
    "记录搜索路径"
   ]
  },
  {
   "cell_type": "markdown",
   "id": "78a89892",
   "metadata": {},
   "source": [
    "### 上传、下载"
   ]
  },
  {
   "cell_type": "markdown",
   "id": "1c6d7030",
   "metadata": {},
   "source": [
    "1.上传、下载\n",
    "\n",
    "2.rz、sz命令\n"
   ]
  },
  {
   "cell_type": "markdown",
   "id": "a3e54b75",
   "metadata": {},
   "source": [
    "### 压缩和解压"
   ]
  },
  {
   "cell_type": "markdown",
   "id": "f89fb920",
   "metadata": {},
   "source": [
    "1.tar命令压缩和解压缩.tar/.gz文件\n",
    "\n",
    "**tar [-c -v -x -f -z -C] 参数1……参数N**\n",
    "\n",
    "压缩：\n",
    "\n",
    "tar -cvf test.tar 1.txt 2.txt 3.txt\n",
    "\n",
    "tar -zcvf test.tar 1.txt 2.txt 3.txt\n",
    "\n",
    "解压：\n",
    "\n",
    "tar -xvf test.tar\n",
    "\n",
    "tar -xvf test.tar -C /home/itheima\n",
    "\n",
    "tar -zxvf test.tar.gz -C /home/itheima\n",
    "\n",
    "2.zip命令压缩\n",
    "\n",
    "**zip [-r] 压缩包名 参数1……参数N**\n",
    "\n",
    "3.uzip解压缩\n",
    "\n",
    "**uzip [-d] 参数**"
   ]
  },
  {
   "cell_type": "markdown",
   "id": "066d0b7a",
   "metadata": {},
   "source": []
  },
  {
   "cell_type": "markdown",
   "id": "008ffd1d",
   "metadata": {},
   "source": [
    "## 实战：在Linux上部署各类软件"
   ]
  },
  {
   "cell_type": "markdown",
   "id": "1391d15f",
   "metadata": {},
   "source": []
  }
 ],
 "metadata": {
  "language_info": {
   "name": "python"
  }
 },
 "nbformat": 4,
 "nbformat_minor": 5
}
