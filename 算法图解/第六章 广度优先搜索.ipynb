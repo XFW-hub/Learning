{
 "cells": [
  {
   "cell_type": "markdown",
   "id": "fdf870f5",
   "metadata": {},
   "source": [
    "### 原理"
   ]
  },
  {
   "cell_type": "markdown",
   "id": "f442e1e1",
   "metadata": {},
   "source": [
    "通过队列实现\n",
    "\n",
    "用散列表绘图\n",
    "\n",
    "运行时间O（V+E）"
   ]
  },
  {
   "cell_type": "markdown",
   "id": "67941839",
   "metadata": {},
   "source": [
    "\n",
    "### 代码"
   ]
  },
  {
   "cell_type": "code",
   "execution_count": 2,
   "id": "cefa2e8f",
   "metadata": {},
   "outputs": [
    {
     "name": "stdout",
     "output_type": "stream",
     "text": [
      "the man is thom\n"
     ]
    },
    {
     "data": {
      "text/plain": [
       "True"
      ]
     },
     "execution_count": 2,
     "metadata": {},
     "output_type": "execute_result"
    }
   ],
   "source": [
    "#使用serched来记录已经搜索过的人，防止进入死循环\n",
    "from collections import deque\n",
    "#利用散列表实现图\n",
    "graph = {}\n",
    "graph[\"you\"] = [\"alice\",\"bob\",\"claire\"]\n",
    "graph[\"bob\"] = [\"anuj\",\"peggy\"]\n",
    "graph[\"alice\"] = [\"peggy\"]\n",
    "graph[\"claire\"] = [\"thom\",\"jonny\"]\n",
    "graph[\"anuj\"] = []\n",
    "graph[\"peggy\"] = []\n",
    "graph[\"thom\"] = []\n",
    "graph[\"jonny\"] = []\n",
    "\n",
    "#广度优先算法\n",
    "def search(name):\n",
    "    sea_qu = deque()\n",
    "    sea_qu += graph[name]\n",
    "    searched = []\n",
    "    while sea_qu:\n",
    "        person = sea_qu.popleft()\n",
    "        if person not in searched:\n",
    "            if person[-1] == 'm':\n",
    "                print(f'the man is {person}')\n",
    "                return True\n",
    "            else:\n",
    "                sea_qu+=graph[person]\n",
    "                searched.append(person)\n",
    "    return False\n",
    "search(\"you\")"
   ]
  },
  {
   "cell_type": "code",
   "execution_count": null,
   "id": "e019a3ca",
   "metadata": {},
   "outputs": [],
   "source": []
  }
 ],
 "metadata": {
  "kernelspec": {
   "display_name": "base",
   "language": "python",
   "name": "python3"
  },
  "language_info": {
   "codemirror_mode": {
    "name": "ipython",
    "version": 3
   },
   "file_extension": ".py",
   "mimetype": "text/x-python",
   "name": "python",
   "nbconvert_exporter": "python",
   "pygments_lexer": "ipython3",
   "version": "3.9.7"
  }
 },
 "nbformat": 4,
 "nbformat_minor": 5
}
