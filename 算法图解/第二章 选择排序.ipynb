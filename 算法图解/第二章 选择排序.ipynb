{
 "cells": [
  {
   "cell_type": "markdown",
   "id": "8d24ab3f",
   "metadata": {},
   "source": [
    "### 原理简要"
   ]
  },
  {
   "cell_type": "markdown",
   "id": "f7c57dea",
   "metadata": {},
   "source": [
    "不断在现有数组中找到最大值并放到新数组中\n",
    "\n",
    "O(n^2)"
   ]
  },
  {
   "cell_type": "markdown",
   "id": "6c22deb6",
   "metadata": {},
   "source": [
    "### 代码"
   ]
  },
  {
   "cell_type": "code",
   "execution_count": 4,
   "id": "134c8291",
   "metadata": {},
   "outputs": [
    {
     "name": "stdout",
     "output_type": "stream",
     "text": [
      "[5, 7, 7, 8, 15]\n"
     ]
    }
   ],
   "source": [
    "def findsmallest(arr):\n",
    "    smallest  = arr[0]\n",
    "    smindex = 0\n",
    "    for i in range(len(arr)):\n",
    "        if arr[i]<smallest:\n",
    "            smallest = arr[i]\n",
    "            smindex = i\n",
    "    return smindex\n",
    "kk = [5,7,8,15,7]\n",
    "res = []\n",
    "for i in range(len(kk)):\n",
    "    sm = findsmallest(kk)\n",
    "    res.append(kk.pop(sm))\n",
    "print(res)\n"
   ]
  }
 ],
 "metadata": {
  "kernelspec": {
   "display_name": "base",
   "language": "python",
   "name": "python3"
  },
  "language_info": {
   "codemirror_mode": {
    "name": "ipython",
    "version": 3
   },
   "file_extension": ".py",
   "mimetype": "text/x-python",
   "name": "python",
   "nbconvert_exporter": "python",
   "pygments_lexer": "ipython3",
   "version": "3.9.7"
  }
 },
 "nbformat": 4,
 "nbformat_minor": 5
}
