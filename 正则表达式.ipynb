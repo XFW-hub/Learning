{
 "cells": [
  {
   "cell_type": "markdown",
   "id": "c5fa5bfd",
   "metadata": {},
   "source": [
    "# 正则表达式"
   ]
  },
  {
   "cell_type": "markdown",
   "id": "b0189f29",
   "metadata": {},
   "source": [
    "## 限定符"
   ]
  },
  {
   "cell_type": "markdown",
   "id": "360998b1",
   "metadata": {},
   "source": [
    "1.?\n",
    "\n",
    "**us?e**\n",
    "\n",
    "s出现0次或1次\n",
    "\n",
    "2.*\n",
    "\n",
    "**us*e**\n",
    "\n",
    "s出现0次或多次\n",
    "\n",
    "3.+\n",
    "\n",
    "**us+e**\n",
    "\n",
    "s出现1次及以上\n",
    "\n",
    "4.{2,6}\n",
    "\n",
    "**us{2,6}e**\n",
    "\n",
    "s出现2次到6次\n",
    "\n",
    "**us{2,}e**\n",
    "\n",
    "s出现2次以上\n",
    "\n",
    "*若要匹配多个字母则用（）把字母包起来*\n"
   ]
  },
  {
   "cell_type": "markdown",
   "id": "b80a5c26",
   "metadata": {},
   "source": [
    "## 或运算符"
   ]
  },
  {
   "cell_type": "markdown",
   "id": "9f7bf8e9",
   "metadata": {},
   "source": [
    "a (cat|dog)"
   ]
  },
  {
   "cell_type": "markdown",
   "id": "97503c5c",
   "metadata": {},
   "source": [
    "## 字符类"
   ]
  },
  {
   "cell_type": "markdown",
   "id": "64ad7dbc",
   "metadata": {},
   "source": [
    "1.[abc]+\n",
    "\n",
    "匹配由abc构成的字符\n",
    "\n",
    "2.[a-zA-Z0-9]+\n",
    "\n",
    "3.[^0-9]+\n",
    "\n",
    "匹配非数字字符\n",
    "\n",
    "\n"
   ]
  },
  {
   "cell_type": "markdown",
   "id": "30c6167c",
   "metadata": {},
   "source": [
    "## 元字符"
   ]
  },
  {
   "cell_type": "markdown",
   "id": "a2310d53",
   "metadata": {},
   "source": [
    "1. \\d\n",
    "\n",
    "数字字符，相当于[0-9]+（大写表示非）\n",
    "\n",
    "2. \\w\n",
    "\n",
    "所有英文、数字及下划线\n",
    "\n",
    "3. \\s\n",
    "\n",
    "空白符（包括tab及换行符）\n",
    "\n",
    "4. .\n",
    "\n",
    "表示除换行符外的字符\n",
    "\n",
    "5. \\b\n",
    "\n",
    "表示字符的边界\n",
    "\n",
    "在mysql中\\本身也需要转义\n",
    "\n",
    "\n",
    "\n"
   ]
  },
  {
   "cell_type": "markdown",
   "id": "114f40d0",
   "metadata": {},
   "source": [
    "## 行首与行尾"
   ]
  },
  {
   "cell_type": "markdown",
   "id": "b30ade52",
   "metadata": {},
   "source": [
    "1. ^匹配行首\n",
    "\n",
    "^a\n",
    "\n",
    "2. $匹配行尾\n",
    "\n",
    "a$"
   ]
  },
  {
   "cell_type": "markdown",
   "id": "e11dafe2",
   "metadata": {},
   "source": [
    "## 贪婪与懒惰匹配"
   ]
  },
  {
   "cell_type": "markdown",
   "id": "c5048dac",
   "metadata": {},
   "source": [
    "<.+> 贪婪\n",
    "\n",
    "<.+?>懒惰"
   ]
  }
 ],
 "metadata": {
  "language_info": {
   "name": "python"
  }
 },
 "nbformat": 4,
 "nbformat_minor": 5
}
