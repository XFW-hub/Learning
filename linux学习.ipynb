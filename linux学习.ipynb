{
 "cells": [
  {
   "cell_type": "markdown",
   "id": "073a88cb",
   "metadata": {
    "vscode": {
     "languageId": "plaintext"
    }
   },
   "source": [
    "## Linux的目录结构"
   ]
  },
  {
   "cell_type": "markdown",
   "id": "e4f35288",
   "metadata": {},
   "source": [
    "\n",
    "/usr/hello.txt"
   ]
  },
  {
   "cell_type": "markdown",
   "id": "856c0a75",
   "metadata": {
    "vscode": {
     "languageId": "plaintext"
    }
   },
   "source": [
    "## Linux命令入门"
   ]
  },
  {
   "cell_type": "markdown",
   "id": "80803a18",
   "metadata": {},
   "source": [
    "### Linux命令基础"
   ]
  },
  {
   "cell_type": "markdown",
   "id": "cd1fece6",
   "metadata": {},
   "source": [
    "1.命令行\n",
    "\n",
    "命令提示符页面\n",
    "\n",
    "2.命令\n",
    "\n",
    "Linux程序\n",
    "\n",
    "3.基础格式\n",
    "\n",
    "**command [-options] [parameter]**\n",
    "\n",
    "命令本身   可选（选项）  可选（参数）\n",
    "\n",
    "ls -l/home/itheima\n",
    "\n",
    "cp -r test1 test2\n",
    "\n",
    "   "
   ]
  },
  {
   "cell_type": "markdown",
   "id": "c470dcff",
   "metadata": {},
   "source": [
    "### ls命令入门"
   ]
  },
  {
   "cell_type": "markdown",
   "id": "4ff48ae4",
   "metadata": {},
   "source": [
    "1.ls命令\n",
    "\n",
    "**ls [-a -l -h] [Linux路径]**\n",
    "\n",
    "只有ls：平铺列出当前工作目录内容（默认为/home/用户名）\n",
    "\n",
    "2.ls命令的选项\n",
    "\n",
    "-a:列出全部文件（包括隐藏文件.）\n",
    "\n",
    "-l:竖向排列展示，并展示更多时间\n",
    "\n",
    "-la:同时应用-l -a\n",
    "\n",
    "-hl:以易于阅读的形式展示文件大小(-h要和-l一起使用)\n",
    "\n"
   ]
  },
  {
   "cell_type": "markdown",
   "id": "bb443745",
   "metadata": {},
   "source": [
    "### 目录切换命令（cd/pwd）\n",
    "\n",
    "\n"
   ]
  },
  {
   "cell_type": "markdown",
   "id": "4c5fd6c3",
   "metadata": {},
   "source": [
    "**cd [Linux路径]**\n",
    "\n",
    "更改工作目录（不写参数回到home）\n",
    "\n",
    "**pwd**\n",
    "\n",
    "无选项无参数 查看当前工作目录"
   ]
  },
  {
   "cell_type": "markdown",
   "id": "81eb465f",
   "metadata": {},
   "source": [
    "### 相对路径、绝对路径和特殊路径符"
   ]
  },
  {
   "cell_type": "markdown",
   "id": "4ad496ad",
   "metadata": {},
   "source": [
    "特殊路径符：\n",
    "\n",
    ". 表示当前目录\n",
    "\n",
    ".. 表示上一级目录\n",
    "\n",
    "../.. 表示上两级目录\n",
    "\n",
    "~ 表示home目录"
   ]
  },
  {
   "cell_type": "markdown",
   "id": "69e9d8d1",
   "metadata": {},
   "source": [
    "### 创建目录命令（mkdir）"
   ]
  },
  {
   "cell_type": "markdown",
   "id": "5f86d34b",
   "metadata": {},
   "source": [
    "**mkdir [-p] Linux路径**\n",
    "\n",
    "-p:自动创建不存在的父目录    mkdir -p itcast/good/666(只能在home目录内创建)\n",
    "\n"
   ]
  },
  {
   "cell_type": "markdown",
   "id": "02137d31",
   "metadata": {},
   "source": [
    "### 文件操作命令（touch,cat,more）"
   ]
  },
  {
   "cell_type": "markdown",
   "id": "3f4437f2",
   "metadata": {},
   "source": [
    "1.touch 创建文件\n",
    "\n",
    "**touch Linux路径**\n",
    "\n",
    "2.cat 查看文件内容\n",
    "\n",
    "**cat Linux路径**\n",
    "\n",
    "3.more 查看文件内容\n",
    "\n",
    "**more Linux路径** 支持翻页\n",
    "\n",
    "使用空格翻页，使用q退出查看\n",
    "\n",
    "\n"
   ]
  },
  {
   "cell_type": "markdown",
   "id": "262fee7b",
   "metadata": {},
   "source": [
    "### 文件操作命令（cp,mv,rm）"
   ]
  },
  {
   "cell_type": "markdown",
   "id": "7981eed0",
   "metadata": {},
   "source": []
  },
  {
   "cell_type": "markdown",
   "id": "57afb5a1",
   "metadata": {},
   "source": [
    "### 查找命令（which,find）"
   ]
  },
  {
   "cell_type": "markdown",
   "id": "606daefb",
   "metadata": {},
   "source": []
  },
  {
   "cell_type": "markdown",
   "id": "a26d7e36",
   "metadata": {},
   "source": [
    "### grep,wc和管道符"
   ]
  },
  {
   "cell_type": "markdown",
   "id": "0140dfa6",
   "metadata": {},
   "source": []
  },
  {
   "cell_type": "markdown",
   "id": "04b430fc",
   "metadata": {},
   "source": [
    "### echo和重定向符"
   ]
  },
  {
   "cell_type": "markdown",
   "id": "9890d9c3",
   "metadata": {},
   "source": []
  },
  {
   "cell_type": "markdown",
   "id": "c691ded5",
   "metadata": {},
   "source": [
    "### vi编辑器"
   ]
  },
  {
   "cell_type": "markdown",
   "id": "96bb83de",
   "metadata": {},
   "source": []
  }
 ],
 "metadata": {
  "language_info": {
   "name": "python"
  }
 },
 "nbformat": 4,
 "nbformat_minor": 5
}
