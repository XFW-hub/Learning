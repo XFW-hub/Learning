{
 "cells": [
  {
   "cell_type": "markdown",
   "id": "0ee46871",
   "metadata": {},
   "source": [
    "### 原理"
   ]
  },
  {
   "cell_type": "markdown",
   "id": "86cafb44",
   "metadata": {},
   "source": [
    "1.关注作者重合\n",
    "\n",
    "2.点击的笔记重合"
   ]
  },
  {
   "cell_type": "markdown",
   "id": "d121ca78",
   "metadata": {},
   "source": [
    "### 实现"
   ]
  },
  {
   "cell_type": "markdown",
   "id": "db286936",
   "metadata": {},
   "source": [
    "预估用户对候选物品的兴趣：\n",
    "\n",
    "$\\sum_j \\operatorname{sim}\\left(\\right.$ user, user $\\left._j\\right) \\times$ like $\\left(\\right.$ user $_j$, item $)$"
   ]
  },
  {
   "cell_type": "markdown",
   "id": "6414a817",
   "metadata": {},
   "source": [
    "u1喜欢的物品记作J1\n",
    "\n",
    "u1喜欢的物品记作J2\n",
    "\n",
    "I = J1和J2的交集\n",
    "\n",
    "计算用户相似度：\n",
    "\n",
    "$\\operatorname{sim}\\left(u_1, u_2\\right)=\\frac{|I|}{\\sqrt{\\left|\\mathcal{J}_1\\right| \\cdot\\left|\\mathcal{J}_2\\right|}}$\n",
    "\n",
    "根据物品的权重进行改进（越热门的物品对相似度贡献越低）\n",
    "\n",
    "$\\operatorname{sim}\\left(u_1, u_2\\right)=\\frac{\\sum_{l \\in I} \\frac{1}{\\log \\left(1+n_l\\right)}}{\\sqrt{\\left|\\mathcal{J}_1\\right| \\cdot\\left|\\mathcal{J}_2\\right|}}$\n"
   ]
  },
  {
   "cell_type": "markdown",
   "id": "534f71be",
   "metadata": {},
   "source": [
    "### 流程"
   ]
  },
  {
   "cell_type": "markdown",
   "id": "4f8117d6",
   "metadata": {},
   "source": [
    "1.实现做离线运算\n",
    "\n",
    "（1）建立用户到物品的索引\n",
    "\n",
    "（2）建立用户到用户索引\n",
    "\n",
    "2.线上做召回\n",
    "\n",
    "（1）找到k个用户\n",
    "\n",
    "（2）对每个相似用户，找到物品列表last-n\n",
    "\n",
    "（3）回nk个物品\n",
    "\n"
   ]
  }
 ],
 "metadata": {
  "language_info": {
   "name": "python"
  }
 },
 "nbformat": 4,
 "nbformat_minor": 5
}
