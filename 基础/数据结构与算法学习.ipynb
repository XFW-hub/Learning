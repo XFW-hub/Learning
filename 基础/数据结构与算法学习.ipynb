{
 "cells": [
  {
   "cell_type": "markdown",
   "id": "08c621f9",
   "metadata": {},
   "source": [
    "## 堆排序"
   ]
  },
  {
   "cell_type": "markdown",
   "id": "cc0fbda7",
   "metadata": {},
   "source": [
    "### 堆数据结构"
   ]
  },
  {
   "cell_type": "markdown",
   "id": "d96841f7",
   "metadata": {},
   "source": [
    "1. 完全二叉树\n",
    "\n",
    "除最后一层外全部填满的二叉树，且最后一层元素尽量靠左\n",
    "\n",
    "2. 大顶堆\n",
    "\n",
    "每个节点的值都大于等于左右子节点的值\n",
    "\n",
    "3. 小顶堆\n",
    "\n",
    "每个节点的值都小于等于左右子节点的值\n",
    "\n",
    "数学语言：\n",
    "\n",
    "$$\n",
    "\\begin{cases}\n",
    "\tk_i\\geqslant k_{2i}\\\\\n",
    "\tk_i\\geqslant k_{2i+1}\\\\\n",
    "\\end{cases}\\text{或}\\begin{cases}\n",
    "\tk_i\\leqslant k_{2i}\\\\\n",
    "\tk_i\\leqslant k_{2i+1}\\\\\n",
    "\\end{cases},1\\leqslant i\\leqslant \\lfloor \\frac{n}{2} \\rfloor\n",
    "$$"
   ]
  },
  {
   "cell_type": "markdown",
   "id": "2595972d",
   "metadata": {},
   "source": [
    "### 堆排序算法"
   ]
  },
  {
   "cell_type": "markdown",
   "id": "cb3202f1",
   "metadata": {},
   "source": [
    "1. 算法流程\n",
    "\n",
    "（1）将无序序列构建成一个堆\n",
    "\n",
    "（2）输出堆顶元素之后，调整剩余元素成为新堆\n",
    "\n",
    "python实现：\n",
    "\n"
   ]
  },
  {
   "cell_type": "code",
   "execution_count": 16,
   "id": "3b595d41",
   "metadata": {},
   "outputs": [
    {
     "name": "stdout",
     "output_type": "stream",
     "text": [
      "测试用例 1: [64, 34, 25, 12, 22, 11, 90]\n",
      "排序结果: [11, 12, 22, 25, 34, 64, 90]\n",
      "\n",
      "测试用例 2: [5, 2, 4, 6, 1, 3]\n",
      "排序结果: [1, 2, 3, 4, 5, 6]\n",
      "\n",
      "测试用例 3: [1]\n",
      "排序结果: [1]\n",
      "\n",
      "测试用例 4: []\n",
      "排序结果: []\n",
      "\n",
      "测试用例 5: [3, 3, 3, 3]\n",
      "排序结果: [3, 3, 3, 3]\n",
      "\n",
      "测试用例 6: [9, 8, 7, 6, 5, 4, 3, 2, 1]\n",
      "排序结果: [1, 2, 3, 4, 5, 6, 7, 8, 9]\n",
      "\n"
     ]
    }
   ],
   "source": [
    "def heapify(arr,n,i):\n",
    "    largest = i\n",
    "    left = 2*i + 1\n",
    "    right = 2*i +2\n",
    "\n",
    "    if left < n and arr[left] > arr[largest]:\n",
    "        largest = left\n",
    "    if right < n and arr[right] > arr[largest]:\n",
    "        largest = right\n",
    "    if largest != i:\n",
    "        arr[i],arr[largest] = arr[largest],arr[i]\n",
    "        heapify(arr,n,largest)\n",
    "\n",
    "def heap_sort(arr):\n",
    "    n = len(arr)\n",
    "\n",
    "    for i in range(n//2-1,-1,-1):\n",
    "        heapify(arr,n,i)\n",
    "\n",
    "    for i in range(n-1,0,-1):\n",
    "        arr[i],arr[0] = arr[0],arr[i]\n",
    "        heapify(arr,i,0)\n",
    "    return arr\n",
    "\n",
    "test_cases = [\n",
    "[64, 34, 25, 12, 22, 11, 90],\n",
    "[5, 2, 4, 6, 1, 3],\n",
    "[1],\n",
    "[],\n",
    "[3, 3, 3, 3],\n",
    "[9, 8, 7, 6, 5, 4, 3, 2, 1]\n",
    "]\n",
    "    \n",
    "for i, arr in enumerate(test_cases):\n",
    "    print(f\"测试用例 {i+1}: {arr}\")\n",
    "    sorted_arr = heap_sort(arr.copy())\n",
    "    print(f\"排序结果: {sorted_arr}\\n\")"
   ]
  }
 ],
 "metadata": {
  "kernelspec": {
   "display_name": "base",
   "language": "python",
   "name": "python3"
  },
  "language_info": {
   "codemirror_mode": {
    "name": "ipython",
    "version": 3
   },
   "file_extension": ".py",
   "mimetype": "text/x-python",
   "name": "python",
   "nbconvert_exporter": "python",
   "pygments_lexer": "ipython3",
   "version": "3.9.7"
  }
 },
 "nbformat": 4,
 "nbformat_minor": 5
}
