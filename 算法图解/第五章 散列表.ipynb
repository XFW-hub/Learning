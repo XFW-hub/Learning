{
 "cells": [
  {
   "cell_type": "markdown",
   "id": "e3314bb7",
   "metadata": {},
   "source": [
    "### 散列函数"
   ]
  },
  {
   "cell_type": "markdown",
   "id": "4e035632",
   "metadata": {},
   "source": [
    "只返回有效索引\n",
    "\n",
    "将同样的输入映射到同样的索引\n",
    "\n",
    "将不同的输入映射到不同的索引"
   ]
  },
  {
   "cell_type": "markdown",
   "id": "85edff77",
   "metadata": {},
   "source": [
    "### 冲突"
   ]
  },
  {
   "cell_type": "markdown",
   "id": "097421de",
   "metadata": {},
   "source": [
    "如果两个键映射到了同一个位置，就在这个位置存储一个链表"
   ]
  },
  {
   "cell_type": "markdown",
   "id": "9d23b448",
   "metadata": {},
   "source": [
    "### 性能"
   ]
  },
  {
   "cell_type": "markdown",
   "id": "9614e50a",
   "metadata": {},
   "source": [
    "1.较低的填装因子\n",
    "\n",
    "一旦填装因子大于0.7，就调整散列表的长度\n",
    "\n",
    "2.良好的散列函数\n",
    "\n"
   ]
  },
  {
   "cell_type": "markdown",
   "id": "061993f2",
   "metadata": {},
   "source": []
  }
 ],
 "metadata": {
  "language_info": {
   "name": "python"
  }
 },
 "nbformat": 4,
 "nbformat_minor": 5
}
