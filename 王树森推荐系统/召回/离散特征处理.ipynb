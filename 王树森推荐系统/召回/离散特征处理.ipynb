{
 "cells": [
  {
   "cell_type": "markdown",
   "id": "c0fb5dfb",
   "metadata": {},
   "source": [
    "### 处理步骤"
   ]
  },
  {
   "cell_type": "markdown",
   "id": "b4b3a431",
   "metadata": {},
   "source": [
    "1.建立字典\n",
    "\n",
    "把类别映射成序号\n",
    "\n",
    "2.向量化\n",
    "\n",
    "（1）one-hot编码\n",
    "\n",
    "把序号映射成高维稀疏向量\n",
    "\n",
    "类别数量太大时不用\n",
    "\n",
    "（2）Embedding（嵌入）\n",
    "\n",
    "把序号映射成低维稠密向量\n",
    "\n",
    "参数数量：向量维度 * 类别数量\n",
    "\n",
    "编程实现：\n",
    "\n",
    "参数以矩阵形式保存\n",
    "\n",
    "输入序号 输出向量\n",
    "\n",
    "（3）关系\n",
    "\n",
    "Embedding = 参数矩阵 * One-hot(矩阵乘法)\n",
    "\n",
    "\n",
    "\n"
   ]
  }
 ],
 "metadata": {
  "language_info": {
   "name": "python"
  }
 },
 "nbformat": 4,
 "nbformat_minor": 5
}
