{
 "cells": [
  {
   "cell_type": "markdown",
   "id": "5537980c",
   "metadata": {},
   "source": [
    "### 基本想法"
   ]
  },
  {
   "cell_type": "markdown",
   "id": "5383dc61",
   "metadata": {},
   "source": [
    "用户embedding参数矩阵为A\n",
    "\n",
    "物品embedding参数矩阵为B\n",
    "\n",
    "<Au,Bi>表示第u号用户对第i号物品兴趣的预估值\n",
    "\n",
    "训练模型的目的是学习矩阵A和B，使得预估值拟合真实观测的兴趣分数\n"
   ]
  },
  {
   "cell_type": "markdown",
   "id": "d11365e5",
   "metadata": {},
   "source": [
    "### 数据集"
   ]
  },
  {
   "cell_type": "markdown",
   "id": "d283e7e6",
   "metadata": {},
   "source": [
    "（用户ID,物品ID，兴趣分数）的集合，记作\n",
    "\n",
    "$\\Omega=\\{(u, i, y)\\}$\n",
    "\n",
    "数据集中的兴趣分数是已知的"
   ]
  },
  {
   "cell_type": "markdown",
   "id": "2bc8c959",
   "metadata": {},
   "source": [
    "### 训练"
   ]
  },
  {
   "cell_type": "markdown",
   "id": "db1a6bf6",
   "metadata": {},
   "source": [
    "求解优化问题\n",
    "\n",
    "$\\min _{\\mathrm{A}, \\mathrm{B}} \\sum_{(u, i, y) \\in \\Omega}\\left(y-\\left\\langle\\mathbf{a}_u, \\mathbf{b}_i\\right\\rangle\\right)^2$.\n",
    "\n"
   ]
  },
  {
   "cell_type": "markdown",
   "id": "9e6b9178",
   "metadata": {},
   "source": [
    "### 缺点"
   ]
  },
  {
   "cell_type": "markdown",
   "id": "19c59eb1",
   "metadata": {},
   "source": [
    "1.\n",
    "\n",
    "仅使用IDembedding,没利用物品、用户属性\n",
    "\n",
    "2.\n",
    "\n",
    "负样本的选取方式不对\n",
    "\n",
    "3.\n",
    "\n",
    "训练模型的方法不好\n",
    "\n",
    "内积不如余弦相似度\n",
    "\n",
    "损失函数不如交叉熵\n"
   ]
  },
  {
   "cell_type": "markdown",
   "id": "c012c038",
   "metadata": {},
   "source": [
    "### 近似最近邻查找"
   ]
  },
  {
   "cell_type": "markdown",
   "id": "86309963",
   "metadata": {},
   "source": [
    "提前对数据进行分区"
   ]
  }
 ],
 "metadata": {
  "language_info": {
   "name": "python"
  }
 },
 "nbformat": 4,
 "nbformat_minor": 5
}
