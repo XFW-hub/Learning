{
 "cells": [
  {
   "cell_type": "markdown",
   "id": "9a9ff401",
   "metadata": {},
   "source": [
    "### 原理简要"
   ]
  },
  {
   "cell_type": "markdown",
   "id": "f9dc06f9",
   "metadata": {},
   "source": [
    "采用分而治之的方法\n",
    "\n",
    "基数组为含0或一个元素的数组\n",
    "\n",
    "先找到基准值 根据基准值将原数组分为左右两个子数组进行递归\n",
    "\n",
    "O(nlogn)\n",
    "\n"
   ]
  },
  {
   "cell_type": "markdown",
   "id": "18e41eb2",
   "metadata": {},
   "source": [
    "### 代码及示例"
   ]
  },
  {
   "cell_type": "code",
   "execution_count": 6,
   "id": "11d2ec93",
   "metadata": {},
   "outputs": [
    {
     "name": "stdout",
     "output_type": "stream",
     "text": [
      "[3, 8, 8, 8, 77, 100]\n"
     ]
    }
   ],
   "source": [
    "def quicksort(arr):\n",
    "    if len(arr)<2:\n",
    "        return arr\n",
    "    pivot = arr[0]\n",
    "    left = [i for i in arr[1:] if i<=pivot]\n",
    "    right = [i for i in arr[1:] if i>pivot]\n",
    "    return quicksort(left) + [pivot] +quicksort(right)\n",
    "print(quicksort([8,8,8,100,77,3]))"
   ]
  }
 ],
 "metadata": {
  "kernelspec": {
   "display_name": "base",
   "language": "python",
   "name": "python3"
  },
  "language_info": {
   "codemirror_mode": {
    "name": "ipython",
    "version": 3
   },
   "file_extension": ".py",
   "mimetype": "text/x-python",
   "name": "python",
   "nbconvert_exporter": "python",
   "pygments_lexer": "ipython3",
   "version": "3.9.7"
  }
 },
 "nbformat": 4,
 "nbformat_minor": 5
}
