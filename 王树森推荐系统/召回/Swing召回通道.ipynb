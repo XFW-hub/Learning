{
 "cells": [
  {
   "cell_type": "markdown",
   "id": "94bd4be5",
   "metadata": {},
   "source": [
    "### 模型原理"
   ]
  },
  {
   "cell_type": "markdown",
   "id": "15a89fab",
   "metadata": {},
   "source": [
    "u1喜欢的物品为集合J1\n",
    "\n",
    "u2喜欢的物品为集合J2\n",
    "\n",
    "定义两个用户的重合度：\n",
    "\n",
    "$\\operatorname{overlap}\\left(u_1, u_2\\right)=\\left|\\mathcal{J}_1 \\cap \\mathcal{J}_2\\right|$\n",
    "\n",
    "用户u1和u2的重合度高，则他们可能来自一个小圈子，要降低他们的权重\n",
    "\n",
    "物品相似度计算：\n",
    "\n",
    "$\\operatorname{sim}\\left(i_1, i_2\\right)=\\sum_{u_1 \\in \\mathcal{V}} \\sum_{u_2 \\in \\mathcal{V}} \\frac{1}{\\alpha+\\operatorname{overlap}\\left(u_1, u_2\\right)}$\n"
   ]
  },
  {
   "cell_type": "markdown",
   "id": "c8ae4445",
   "metadata": {},
   "source": []
  }
 ],
 "metadata": {
  "language_info": {
   "name": "python"
  }
 },
 "nbformat": 4,
 "nbformat_minor": 5
}
