{
 "cells": [
  {
   "cell_type": "markdown",
   "id": "11728455",
   "metadata": {},
   "source": [
    "### 实现与门"
   ]
  },
  {
   "cell_type": "code",
   "execution_count": 1,
   "id": "2564ffb5",
   "metadata": {},
   "outputs": [],
   "source": [
    "def AND(x1,x2):\n",
    "    w1,w2,theta = 0.5,0.5,0.7\n",
    "    tmp = x1*w1 + x2*w2\n",
    "    if tmp <= theta:\n",
    "        return 0\n",
    "    elif tmp>theta:\n",
    "        return 1\n",
    "x = AND(1,1)\n",
    "\n",
    "\n",
    "\n"
   ]
  },
  {
   "cell_type": "markdown",
   "id": "55a52d84",
   "metadata": {},
   "source": [
    "### 导入权重和偏置"
   ]
  },
  {
   "cell_type": "code",
   "execution_count": 7,
   "id": "c614635f",
   "metadata": {},
   "outputs": [],
   "source": [
    "import numpy as np\n",
    "x = np.array([0,1])\n",
    "w = np.array([0.5,0.5])\n",
    "b = -0.7\n",
    "ans = 1 if sum(w*x)+b>0 else 0"
   ]
  },
  {
   "cell_type": "markdown",
   "id": "566cb797",
   "metadata": {},
   "source": [
    "### 使用权重和偏置实现与门"
   ]
  },
  {
   "cell_type": "code",
   "execution_count": 8,
   "id": "292517cc",
   "metadata": {},
   "outputs": [],
   "source": [
    "def AnD(x1,x2):\n",
    "    x = np.array([x1,x2])\n",
    "    w = np.array([0.5,0.5])\n",
    "    b = -0.7\n",
    "    tmp = np.sum(w*x) + b\n",
    "    if tmp<=0:\n",
    "        return 0\n",
    "    else:return 1"
   ]
  },
  {
   "cell_type": "markdown",
   "id": "4b1ed2fb",
   "metadata": {},
   "source": [
    "### 实现与非门和或门"
   ]
  },
  {
   "cell_type": "code",
   "execution_count": 9,
   "id": "05d50727",
   "metadata": {},
   "outputs": [],
   "source": [
    "def NAND(x1,x2):\n",
    "    x = np.array([x1,x2])\n",
    "    w = np.array([-0.5,-0.5])\n",
    "    b = 0.7\n",
    "    tmp = np.sum(w*x) + b\n",
    "    return 0 if tmp<=0 else 1"
   ]
  },
  {
   "cell_type": "code",
   "execution_count": 10,
   "id": "061eb0a7",
   "metadata": {},
   "outputs": [],
   "source": [
    "def OR(x1,x2):\n",
    "    x = np.array([x1,x2])\n",
    "    w = np.array([0.5,0.5])\n",
    "    b = -0.2\n",
    "    tmp = np.sum(w*x) + b\n",
    "    return 0 if tmp<=0 else 1"
   ]
  },
  {
   "cell_type": "markdown",
   "id": "eb6a29fd",
   "metadata": {},
   "source": [
    "### 与门、或门、与非门实现异或门"
   ]
  },
  {
   "cell_type": "code",
   "execution_count": 11,
   "id": "f2d389f0",
   "metadata": {},
   "outputs": [],
   "source": [
    "def XOR(x1,x2):\n",
    "    s1 = NAND(x1,x2)\n",
    "    s2 = OR(x1,x2)\n",
    "    y = AnD(s1,s2)\n",
    "    return y"
   ]
  },
  {
   "cell_type": "code",
   "execution_count": 12,
   "id": "04ac4364",
   "metadata": {},
   "outputs": [
    {
     "name": "stdout",
     "output_type": "stream",
     "text": [
      "0\n",
      "1\n",
      "1\n",
      "0\n"
     ]
    }
   ],
   "source": [
    "print(XOR(1,1))\n",
    "print(XOR(1,0))\n",
    "print(XOR(0,1))\n",
    "print(XOR(0,0))\n"
   ]
  },
  {
   "cell_type": "code",
   "execution_count": null,
   "id": "5ef63e24",
   "metadata": {},
   "outputs": [],
   "source": []
  }
 ],
 "metadata": {
  "kernelspec": {
   "display_name": "base",
   "language": "python",
   "name": "python3"
  },
  "language_info": {
   "codemirror_mode": {
    "name": "ipython",
    "version": 3
   },
   "file_extension": ".py",
   "mimetype": "text/x-python",
   "name": "python",
   "nbconvert_exporter": "python",
   "pygments_lexer": "ipython3",
   "version": "3.9.7"
  }
 },
 "nbformat": 4,
 "nbformat_minor": 5
}
