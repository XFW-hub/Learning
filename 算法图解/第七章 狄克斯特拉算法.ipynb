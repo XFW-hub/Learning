{
 "cells": [
  {
   "cell_type": "markdown",
   "id": "ca272255",
   "metadata": {},
   "source": [
    "### 4个步骤"
   ]
  },
  {
   "cell_type": "markdown",
   "id": "ce94a455",
   "metadata": {},
   "source": [
    "1.找出最便宜的节点\n",
    "\n",
    "2.对该节点的邻居，检查是否有更短路径，有则更新\n",
    "\n",
    "3.重复，直到对每个节点都这么做\n",
    "\n",
    "4.计算最终路径\n",
    "\n",
    "只适用于有向无环图，且权重为正（假设被处理过的节点来说，没有更短的路径可以到达它）"
   ]
  },
  {
   "cell_type": "markdown",
   "id": "b5f79bbb",
   "metadata": {},
   "source": [
    "### 代码实现"
   ]
  },
  {
   "cell_type": "code",
   "execution_count": 7,
   "id": "574788d1",
   "metadata": {},
   "outputs": [
    {
     "name": "stdout",
     "output_type": "stream",
     "text": [
      "6\n",
      "fin\n",
      "<---\n",
      "A\n",
      "<---\n",
      "B\n",
      "<---\n",
      "start\n"
     ]
    }
   ],
   "source": [
    "#存储有向无环图\n",
    "graph = {}\n",
    "graph[\"start\"] = {}\n",
    "graph[\"start\"][\"A\"] = 6\n",
    "graph[\"start\"][\"B\"] = 2\n",
    "graph[\"A\"] = {}\n",
    "graph[\"A\"][\"fin\"] = 1\n",
    "graph[\"B\"] = {}\n",
    "graph[\"B\"][\"A\"] = 3\n",
    "graph[\"B\"][\"fin\"] = 5\n",
    "graph[\"fin\"] = {}\n",
    "\n",
    "#存储开销\n",
    "infinity = float(\"inf\")\n",
    "costs = {}\n",
    "costs[\"A\"] = 6\n",
    "costs[\"B\"] = 2\n",
    "costs[\"fin\"] = infinity\n",
    "\n",
    "#存储父节点\n",
    "parents = {}\n",
    "parents[\"A\"] = \"start\"\n",
    "parents[\"B\"] = \"start\"\n",
    "parents[\"fin\"] = None\n",
    "\n",
    "#记录已经处理过的节点\n",
    "processed = []\n",
    "\n",
    "#正式开始\n",
    "def Dijkstra(graph,costs,parents,processed):\n",
    "    def find_lowest_cost_node(costs):\n",
    "        lowest_cost = float(\"inf\")\n",
    "        lowest_cost_node = None\n",
    "        for node in costs:\n",
    "            cost = costs[node]\n",
    "            if cost<lowest_cost and node not in processed:\n",
    "                lowest_cost = cost\n",
    "                lowest_cost_node = node\n",
    "        return lowest_cost_node\n",
    "    node = find_lowest_cost_node(costs)\n",
    "    while node is not None:\n",
    "        cost = costs[node]\n",
    "        neighbours = graph[node]\n",
    "        for n in neighbours.keys():\n",
    "            new_cost = cost + neighbours[n]\n",
    "            if costs[n]>new_cost:\n",
    "                parents[n] = node\n",
    "                costs[n] = new_cost\n",
    "        processed.append(node)\n",
    "        node = find_lowest_cost_node(costs)\n",
    "Dijkstra(graph,costs,parents,processed)\n",
    "print(costs[\"fin\"])\n",
    "node = \"fin\"\n",
    "while node:\n",
    "    print(node)\n",
    "    if node==\"start\":break\n",
    "    print(\"<---\")\n",
    "    node = parents[node]\n",
    "    \n",
    "\n",
    "\n",
    "\n"
   ]
  }
 ],
 "metadata": {
  "kernelspec": {
   "display_name": "base",
   "language": "python",
   "name": "python3"
  },
  "language_info": {
   "codemirror_mode": {
    "name": "ipython",
    "version": 3
   },
   "file_extension": ".py",
   "mimetype": "text/x-python",
   "name": "python",
   "nbconvert_exporter": "python",
   "pygments_lexer": "ipython3",
   "version": "3.9.7"
  }
 },
 "nbformat": 4,
 "nbformat_minor": 5
}
