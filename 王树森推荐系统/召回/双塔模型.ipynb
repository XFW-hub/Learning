{
 "cells": [
  {
   "cell_type": "markdown",
   "id": "aad68bf2",
   "metadata": {},
   "source": [
    "### 模型结构"
   ]
  },
  {
   "cell_type": "markdown",
   "id": "f5719263",
   "metadata": {},
   "source": [
    "1.对于物品/用户ID及他们的离散特征\n",
    "\n",
    "使用embedding或者one-hot\n",
    "\n",
    "2.对于连续特征\n",
    "\n",
    "进行归一化或分桶\n",
    "\n",
    "3.将得到的所有向量作为神经网络的输入\n",
    "\n",
    "4.得到输出的向量作为用户表征/物品表征\n",
    "\n",
    "5.求两个向量的余弦相似度看作用户对物品的兴趣\n",
    "\n",
    "注：后期融合！！！用户和物品的分别丢进神经网络而非一起！！\n"
   ]
  },
  {
   "cell_type": "markdown",
   "id": "7879b392",
   "metadata": {},
   "source": [
    "### 正负样本的选择"
   ]
  },
  {
   "cell_type": "markdown",
   "id": "c5c583e2",
   "metadata": {},
   "source": [
    "1.正样本\n",
    "\n",
    "用户点击的物品\n",
    "\n",
    "2.负样本\n",
    "\n",
    "没有被召回的？\n",
    "\n",
    "召回但是被粗排、精排淘汰的?\n",
    "\n",
    "曝光但是未点击的？\n"
   ]
  },
  {
   "cell_type": "markdown",
   "id": "a533a870",
   "metadata": {},
   "source": [
    "### 模型训练"
   ]
  },
  {
   "cell_type": "markdown",
   "id": "8baf4388",
   "metadata": {},
   "source": [
    "1.Pointwise\n",
    "\n",
    "独立看待每个正样本、负样本，做简单的二元分类\n",
    "\n",
    "2.Pairwise\n",
    "\n",
    "每次取一个正样本、一个负样本\n",
    "\n",
    "3.Listwise\n",
    "\n",
    "每次取一个正样本、多个负样本"
   ]
  },
  {
   "cell_type": "markdown",
   "id": "4897af44",
   "metadata": {},
   "source": [
    "### Pointwise 训练"
   ]
  },
  {
   "cell_type": "markdown",
   "id": "6aa03efc",
   "metadata": {},
   "source": [
    "把召回看作二元分类任务\n",
    "\n",
    "对于正样本 鼓励余弦相似度接近+1\n",
    "\n",
    "对于负样本 鼓励余弦相似度接近-1\n",
    "\n",
    "控制正负样本数量为1:2或1:3"
   ]
  },
  {
   "cell_type": "markdown",
   "id": "76ea2ff0",
   "metadata": {},
   "source": [
    "### Pairwise训练"
   ]
  },
  {
   "cell_type": "markdown",
   "id": "046a7f3c",
   "metadata": {},
   "source": [
    "物品正样本 b+\n",
    "\n",
    "用户a\n",
    "\n",
    "物品负样本 b-\n",
    "\n",
    "鼓励a和b+的余弦相似度大于a和b-的余弦相似度\n",
    "\n",
    "两种损失函数：\n",
    "\n",
    "Triplet hinge loss:\n",
    "\n",
    "$L\\left( a,b^+,b^- \\right) \\,\\,=\\,\\,\\max \\left\\{ 0,\\cos \\left( a,b^- \\right) +m-\\cos \\left( a,b^+ \\right) \\right\\} $\n",
    "\n",
    "Triplet logistic loss:\n",
    "\n",
    "$\n",
    "L\\left( a,b^+,b^- \\right) \\,\\,=\\,\\,\\log \\left( 1+\\exp \\left[ \\sigma ·\\left( \\cos \\left( a,b^- \\right) -\\cos \\left( a,b^+ \\right) \\right) \\right] \\right) \n",
    "$\n",
    "\n"
   ]
  },
  {
   "cell_type": "markdown",
   "id": "aaae7d07",
   "metadata": {},
   "source": [
    "### Listwise训练"
   ]
  },
  {
   "cell_type": "markdown",
   "id": "3bd9ef81",
   "metadata": {},
   "source": [
    "取用户，一个正样本和多个负样本\n",
    "\n",
    "将n+1个余弦相似度进行softmax激活得到s+和s1-……sn-\n",
    "\n",
    "交叉熵损失函数：\n",
    "\n",
    "$\n",
    "CrossEntropy\\left( y,s \\right) \\,\\,=\\,\\,-\\log s^+\n",
    "$"
   ]
  },
  {
   "cell_type": "markdown",
   "id": "4d537dbb",
   "metadata": {},
   "source": [
    "### 正负样本"
   ]
  },
  {
   "cell_type": "markdown",
   "id": "4deadec4",
   "metadata": {},
   "source": [
    "1.正样本：\n",
    "\n",
    "曝光且有点击的用户——物品二元组\n",
    "\n",
    "问题：正样本大多是热门物品\n",
    "\n",
    "解决方案：过采样冷门物品，或降采样热门物品\n",
    "\n",
    "2.负样本\n",
    "\n",
    "（1）简单负样本：在全体中进行抽样\n",
    "\n",
    "未被召回的物品\n",
    "\n",
    "约等于全体物品\n",
    "\n",
    "非均匀抽样：负样本概率与热门程度（点击次数）正相关\n",
    "\n",
    "抽样概率正比于点击次数的0.75次方\n",
    "\n",
    "（2）简单负样本：Batch内负样本\n",
    "\n",
    "缺点：热门物品成为负样本的概率太大\n",
    "\n",
    "解决方案：在训练时纠偏\n",
    "\n",
    "\n",
    "\n",
    "（3）困难负样本：\n",
    "\n",
    "被粗排淘汰的物品\n",
    "\n",
    "精排分数靠后的物品\n",
    "\n",
    "错误点：曝光但是没点击的负样本是给排序用的不是给召回用的!!!\n",
    "\n"
   ]
  },
  {
   "cell_type": "markdown",
   "id": "2248f61a",
   "metadata": {},
   "source": [
    "### 线上召回"
   ]
  },
  {
   "cell_type": "markdown",
   "id": "035ecfe9",
   "metadata": {},
   "source": [
    "1.离线存储物品的物品向量b\n",
    "\n",
    "2.线上召回\n",
    "\n",
    "线上计算用户向量\n",
    "\n",
    "调用向量数据库做最近邻查找"
   ]
  },
  {
   "cell_type": "markdown",
   "id": "78508823",
   "metadata": {},
   "source": [
    "### 模型更新"
   ]
  },
  {
   "cell_type": "markdown",
   "id": "ca80d87b",
   "metadata": {},
   "source": [
    "1.全量更新\n",
    "\n",
    "今天凌晨，用昨天全天的数据训练模型（1 epoch\n",
    "\n",
    "发布新的用户塔神经网络和物品向量\n",
    "\n",
    "2.增量更新\n",
    "\n",
    "原因：用户兴趣随时会变\n",
    "\n",
    "实时收集线上数据，做流式处理，生成TFRcord文件\n",
    "\n",
    "对模型做online learning,增量更新ID Embedding参数（不更新神经网络其他部分参数\n",
    "\n",
    "发布用户ID Embedding 供用户塔在线上计算用户向量\n",
    "\n",
    "\n",
    "\n",
    "\n",
    "\n"
   ]
  }
 ],
 "metadata": {
  "language_info": {
   "name": "python"
  }
 },
 "nbformat": 4,
 "nbformat_minor": 5
}
