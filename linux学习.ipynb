{
 "cells": [
  {
   "cell_type": "markdown",
   "id": "073a88cb",
   "metadata": {
    "vscode": {
     "languageId": "plaintext"
    }
   },
   "source": [
    "## Linux的目录结构"
   ]
  },
  {
   "cell_type": "markdown",
   "id": "e4f35288",
   "metadata": {},
   "source": [
    "\n",
    "/usr/hello.txt"
   ]
  },
  {
   "cell_type": "markdown",
   "id": "856c0a75",
   "metadata": {
    "vscode": {
     "languageId": "plaintext"
    }
   },
   "source": [
    "## Linux命令入门"
   ]
  },
  {
   "cell_type": "markdown",
   "id": "80803a18",
   "metadata": {},
   "source": [
    "### Linux命令基础"
   ]
  },
  {
   "cell_type": "markdown",
   "id": "cd1fece6",
   "metadata": {},
   "source": [
    "1.命令行\n",
    "\n",
    "命令提示符页面\n",
    "\n",
    "2.命令\n",
    "\n",
    "Linux程序\n",
    "\n",
    "3.基础格式\n",
    "\n",
    "**command [-options] [parameter]**\n",
    "\n",
    "命令本身   可选（选项）  可选（参数）\n",
    "\n",
    "ls -l/home/itheima\n",
    "\n",
    "cp -r test1 test2\n",
    "\n",
    "   "
   ]
  },
  {
   "cell_type": "markdown",
   "id": "c470dcff",
   "metadata": {},
   "source": [
    "### ls命令入门"
   ]
  },
  {
   "cell_type": "markdown",
   "id": "4ff48ae4",
   "metadata": {},
   "source": [
    "1.ls命令\n",
    "\n",
    "**ls [-a -l -h] [Linux路径]**\n",
    "\n",
    "只有ls：平铺列出当前工作目录内容（默认为/home/用户名）\n",
    "\n",
    "2.ls命令的选项\n",
    "\n",
    "-a:列出全部文件（包括隐藏文件.）\n",
    "\n",
    "-l:竖向排列展示，并展示更多时间\n",
    "\n",
    "-la:同时应用-l -a\n",
    "\n",
    "-hl:以易于阅读的形式展示文件大小(-h要和-l一起使用)\n",
    "\n"
   ]
  },
  {
   "cell_type": "markdown",
   "id": "bb443745",
   "metadata": {},
   "source": [
    "### 目录切换命令（cd/pwd）\n",
    "\n",
    "\n"
   ]
  },
  {
   "cell_type": "markdown",
   "id": "4c5fd6c3",
   "metadata": {},
   "source": [
    "**cd [Linux路径]**\n",
    "\n",
    "更改工作目录（不写参数回到home）\n",
    "\n",
    "**pwd**\n",
    "\n",
    "无选项无参数 查看当前工作目录"
   ]
  },
  {
   "cell_type": "markdown",
   "id": "81eb465f",
   "metadata": {},
   "source": []
  }
 ],
 "metadata": {
  "language_info": {
   "name": "python"
  }
 },
 "nbformat": 4,
 "nbformat_minor": 5
}
