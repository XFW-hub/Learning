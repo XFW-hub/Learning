{
 "cells": [
  {
   "cell_type": "markdown",
   "id": "2e850369",
   "metadata": {},
   "source": [
    "### Python基础"
   ]
  },
  {
   "cell_type": "markdown",
   "id": "ec87326b",
   "metadata": {},
   "source": [
    "- 《python编程：从入门到实践》\n",
    "- 《利用python进行数据分析》\n"
   ]
  },
  {
   "cell_type": "markdown",
   "id": "e98bb0ca",
   "metadata": {},
   "source": [
    "### 机器学习"
   ]
  },
  {
   "cell_type": "markdown",
   "id": "1cf3f1f9",
   "metadata": {},
   "source": [
    "- 西瓜书+南瓜书\n",
    "- 《统计机器学习》"
   ]
  },
  {
   "cell_type": "markdown",
   "id": "dbd60e3e",
   "metadata": {},
   "source": [
    "### 深度学习"
   ]
  },
  {
   "cell_type": "markdown",
   "id": "dd95b666",
   "metadata": {},
   "source": [
    "- 鱼书\n",
    "- B站小土堆\n",
    "- 花书"
   ]
  },
  {
   "cell_type": "markdown",
   "id": "6e5037fb",
   "metadata": {},
   "source": [
    "### 推荐系统"
   ]
  },
  {
   "cell_type": "markdown",
   "id": "df988eac",
   "metadata": {},
   "source": [
    "- B站王树森\n",
    "- 《深度学习推荐系统》"
   ]
  },
  {
   "cell_type": "markdown",
   "id": "6034ba3b",
   "metadata": {},
   "source": []
  }
 ],
 "metadata": {
  "language_info": {
   "name": "python"
  }
 },
 "nbformat": 4,
 "nbformat_minor": 5
}
