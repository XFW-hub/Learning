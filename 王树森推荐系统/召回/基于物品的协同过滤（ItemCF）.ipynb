{
 "cells": [
  {
   "cell_type": "markdown",
   "id": "8721c587",
   "metadata": {},
   "source": [
    "## 基于物品的协同过滤（ItemCF）"
   ]
  },
  {
   "cell_type": "markdown",
   "id": "8889b830",
   "metadata": {},
   "source": [
    "1.原理\n",
    "\n",
    "给用户推荐他喜欢的东西的相似的东西\n",
    "\n",
    "2.实现\n",
    "\n",
    "Σj{like(user,itemj)*sim(itemj,item)}\n",
    "\n",
    "3.物品相似度的计算\n",
    "\n",
    "喜欢i1的的用户集合W1\n",
    "\n",
    "i2为W2\n",
    "\n",
    "交集为V\n",
    "\n",
    "则相似度为：\n",
    "\n",
    "$\\operatorname{sim}\\left(i_1, i_2\\right)=\\frac{|\\mathcal{V}|}{\\sqrt{\\left|\\mathcal{W}_1\\right| \\cdot\\left|\\mathcal{W}_2\\right|}}$\n",
    "\n",
    "若考虑用户喜欢物品的程度，则公式变为：\n",
    "\n",
    "$\\operatorname{sim}\\left(i_1, i_2\\right)=\\frac{\\sum_{v \\in \\mathcal{V}} \\operatorname{like}\\left(v, i_1\\right) \\cdot \\operatorname{like}\\left(v, i_2\\right)}{\\sqrt{\\sum_{u_1 \\in \\mathcal{W}_1} \\operatorname{like}^2\\left(u_1, i_1\\right)} \\cdot \\sqrt{\\sum_{u_2 \\in \\mathcal{W}_2} \\operatorname{like}^2\\left(u_2, i_2\\right)}}$.\n",
    "\n",
    "（余弦相似度）\n",
    "\n",
    "\n",
    "\n"
   ]
  },
  {
   "cell_type": "markdown",
   "id": "c9f2b31d",
   "metadata": {},
   "source": [
    "### 完整流程"
   ]
  },
  {
   "cell_type": "markdown",
   "id": "aa621b0d",
   "metadata": {},
   "source": [
    "1.事先做离线计算（维护）\n",
    "\n",
    "（1）建立用户到物品的索引\n",
    "\n",
    "（2）建立物品到物品的索引\n",
    "\n",
    "2.线上做召回\n",
    "\n",
    "用户感兴趣的物品列表last-n\n",
    "\n",
    "该列表中的top-k相似物品\n",
    "\n",
    "根据取回的nk个物品，用公式预估用户对物品的兴趣分数\n",
    "\n",
    "3.总结\n",
    "\n",
    "用索引，离线计算量大，线上计算量小\n"
   ]
  }
 ],
 "metadata": {
  "language_info": {
   "name": "python"
  }
 },
 "nbformat": 4,
 "nbformat_minor": 5
}
