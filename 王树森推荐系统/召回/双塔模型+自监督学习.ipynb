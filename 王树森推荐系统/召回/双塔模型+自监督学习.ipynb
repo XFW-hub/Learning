{
 "cells": [
  {
   "cell_type": "markdown",
   "id": "61f1331b",
   "metadata": {},
   "source": [
    "### 双塔模型的问题"
   ]
  },
  {
   "cell_type": "markdown",
   "id": "ce99fcaa",
   "metadata": {},
   "source": [
    "头部效应严重：\n",
    "\n",
    "少部分物品占据大部分点击\n",
    "\n",
    "大部分物品点击次数不高\n"
   ]
  },
  {
   "cell_type": "markdown",
   "id": "df08238a",
   "metadata": {},
   "source": [
    "### 自监督学习"
   ]
  },
  {
   "cell_type": "markdown",
   "id": "e2f7ff6c",
   "metadata": {},
   "source": [
    "1. 对物品做特征变换\n",
    "\n",
    "（1）Random Mask\n",
    "\n",
    "随机遮住一些离散特征\n",
    "\n",
    "（2）Dropout(仅对多值离散特征生效)\n",
    "\n",
    "随机丢弃特征中50%的值\n",
    "\n",
    "（3）互补特征（complementary)\n",
    "\n",
    "一部分特征用作一个表征，剩下的用作另一个\n",
    "\n",
    "（4）Mask一组关联特征\n",
    "\n",
    "例如：性别为女性和类目为美妆的概率大\n",
    "\n",
    "离线计算两两特征的关联\n",
    "\n",
    "2. 训练模型\n",
    "\n",
    "从全体物品均匀抽样，得到m个物品，作为一个batch\n",
    "\n",
    "做两类特征变换，输出两组向量\n",
    "\n",
    "损失函数为\n",
    "\n",
    "$\n",
    "L_{self\\,\\,}\\left[ i \\right] \\,\\,=\\,\\,-\\log \\left( \\frac{\\exp \\left( \\cos \\left( b_{i}^{},b_{i}^{} \\right) \\right)}{\\sum_{j=1}^m{\\exp \\left( \\cos \\left( b_{i}^{},b_{j}^{} \\right) \\right)}} \\right) \n",
    "$\n"
   ]
  },
  {
   "cell_type": "markdown",
   "id": "a1d80489",
   "metadata": {},
   "source": []
  }
 ],
 "metadata": {
  "language_info": {
   "name": "python"
  }
 },
 "nbformat": 4,
 "nbformat_minor": 5
}
